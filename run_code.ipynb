{
 "cells": [
  {
   "cell_type": "markdown",
   "id": "4c1a2b49",
   "metadata": {},
   "source": [
    "# Get Soup"
   ]
  },
  {
   "cell_type": "code",
   "execution_count": 52,
   "id": "663064d1",
   "metadata": {},
   "outputs": [],
   "source": [
    "from bs4 import BeautifulSoup\n",
    "import requests\n",
    "import regex as re\n",
    "import pandas as pd"
   ]
  },
  {
   "cell_type": "code",
   "execution_count": 53,
   "id": "d799eb6a",
   "metadata": {},
   "outputs": [],
   "source": [
    "page = requests.get(\"https://www.laughingplace.com/w/p/disneyland-current-wait-times/\")\n",
    "dland = BeautifulSoup(page.content, 'html.parser')"
   ]
  },
  {
   "cell_type": "code",
   "execution_count": 54,
   "id": "aada478a",
   "metadata": {},
   "outputs": [],
   "source": [
    "page2 = requests.get(\"https://www.laughingplace.com/w/p/disney-california-adventure-current-wait-times/\")\n",
    "dca = BeautifulSoup(page2.content, 'html.parser')"
   ]
  },
  {
   "cell_type": "markdown",
   "id": "e18d10dd",
   "metadata": {},
   "source": [
    "## Get Attractions Table"
   ]
  },
  {
   "cell_type": "code",
   "execution_count": 71,
   "id": "8d24f68c",
   "metadata": {},
   "outputs": [],
   "source": [
    "waits = []"
   ]
  },
  {
   "cell_type": "code",
   "execution_count": 72,
   "id": "8381dd2c",
   "metadata": {},
   "outputs": [
    {
     "data": {
      "text/plain": [
       "'Operating Hours For Fri, Oct 8: 8a-11p\\n \\nLast Check at 3:37pm on Friday'"
      ]
     },
     "execution_count": 72,
     "metadata": {},
     "output_type": "execute_result"
    }
   ],
   "source": [
    "check = dland.find('div', class_='header').text\n",
    "check"
   ]
  },
  {
   "cell_type": "code",
   "execution_count": 73,
   "id": "4bec910c",
   "metadata": {},
   "outputs": [],
   "source": [
    "check = check.split('\\n')"
   ]
  },
  {
   "cell_type": "code",
   "execution_count": 74,
   "id": "bbf7f5ce",
   "metadata": {},
   "outputs": [
    {
     "data": {
      "text/plain": [
       "'Oct 8'"
      ]
     },
     "execution_count": 74,
     "metadata": {},
     "output_type": "execute_result"
    }
   ],
   "source": [
    "pattern = 'Operating Hours For '\n",
    "date_string = re.sub(pattern, '', check[0])\n",
    "date_string = date_string[5:11]\n",
    "date = re.sub('[^A-Za-z0-9]+', ' ', date_string).strip()\n",
    "date"
   ]
  },
  {
   "cell_type": "code",
   "execution_count": 75,
   "id": "8167db6a",
   "metadata": {},
   "outputs": [
    {
     "data": {
      "text/plain": [
       "'337pm'"
      ]
     },
     "execution_count": 75,
     "metadata": {},
     "output_type": "execute_result"
    }
   ],
   "source": [
    "pattern = 'Last Check at '\n",
    "mod_string = re.sub(pattern, '', check[2])\n",
    "mod_string = mod_string[:6]\n",
    "time = re.sub('[^A-Za-z0-9]+', '', mod_string).strip()\n",
    "time"
   ]
  },
  {
   "cell_type": "code",
   "execution_count": 76,
   "id": "1ba4ef4c",
   "metadata": {},
   "outputs": [
    {
     "data": {
      "text/plain": [
       "'8a-11p'"
      ]
     },
     "execution_count": 76,
     "metadata": {},
     "output_type": "execute_result"
    }
   ],
   "source": [
    "hours_string = check[0][31:]\n",
    "hours_string=hours_string.strip()\n",
    "hours_string"
   ]
  },
  {
   "cell_type": "code",
   "execution_count": 77,
   "id": "023018a2",
   "metadata": {},
   "outputs": [
    {
     "data": {
      "text/plain": [
       "'Oct 8 8a-11p Pull:337pm'"
      ]
     },
     "execution_count": 77,
     "metadata": {},
     "output_type": "execute_result"
    }
   ],
   "source": [
    "total_date=date+' '+hours_string+' Pull:'+time\n",
    "total_date"
   ]
  },
  {
   "cell_type": "markdown",
   "id": "1aeb96ee",
   "metadata": {},
   "source": [
    "# Disneyland"
   ]
  },
  {
   "cell_type": "markdown",
   "id": "9b4534a8",
   "metadata": {},
   "source": [
    "## Wait Times"
   ]
  },
  {
   "cell_type": "code",
   "execution_count": 78,
   "id": "d89ba5c1",
   "metadata": {},
   "outputs": [],
   "source": [
    "first = dland.find('table', class_='lp_attraction')"
   ]
  },
  {
   "cell_type": "code",
   "execution_count": 79,
   "id": "f945ba2f",
   "metadata": {},
   "outputs": [],
   "source": [
    "wait_times = first.find_all(\"span\", id=re.compile(\"f\"))"
   ]
  },
  {
   "cell_type": "code",
   "execution_count": 80,
   "id": "ad859109",
   "metadata": {
    "scrolled": true
   },
   "outputs": [],
   "source": [
    "for item in wait_times:\n",
    "    \n",
    "    if item.find('div', class_='waiticon'):\n",
    "        raw_time = item.find('td')\n",
    "        time = raw_time.text[:3].strip(' ')\n",
    "        if ' ' in time:\n",
    "            time = time[:1]\n",
    "    else:\n",
    "        time = item.text[:3].strip(' ')\n",
    "        if ' ' in time:\n",
    "            time = time[:1]\n",
    "        \n",
    "    waits.append(time)"
   ]
  },
  {
   "cell_type": "markdown",
   "id": "c0f105ec",
   "metadata": {},
   "source": [
    "# DCA"
   ]
  },
  {
   "cell_type": "markdown",
   "id": "a560e09e",
   "metadata": {},
   "source": [
    "## Wait Times"
   ]
  },
  {
   "cell_type": "code",
   "execution_count": 81,
   "id": "37e0a260",
   "metadata": {},
   "outputs": [],
   "source": [
    "first = dca.find('table', class_='lp_attraction')"
   ]
  },
  {
   "cell_type": "code",
   "execution_count": 82,
   "id": "5b28c5df",
   "metadata": {
    "scrolled": false
   },
   "outputs": [
    {
     "data": {
      "text/plain": [
       "[<span id=\"f_the_bakery_tour\">Closed</span>,\n",
       " <span id=\"f_carthay_circle_restaurant\">Open</span>,\n",
       " <span id=\"f_golden_zephyr\"><span class=\"statusdown\">Down</span></span>,\n",
       " <span id=\"f_goofys_sky_school\">35 minutes</span>,\n",
       " <span id=\"f_grizzly_river_run\">35 minutes</span>,\n",
       " <span id=\"f_guardians_of_the_galaxy__mission_breakout\">Closed</span>,\n",
       " <span id=\"f_incredicoaster\">30 minutes</span>,\n",
       " <span id=\"f_inside_out_emotional_whirlwind\">20 minutes</span>,\n",
       " <span id=\"f_jessies_critter_carousel\">5 minutes</span>,\n",
       " <span id=\"f_jumpin_jellyfish\">10 minutes</span>,\n",
       " <span id=\"f_lamplight_lounge___boardwalk_dining\">45 minutes</span>,\n",
       " <span id=\"f_the_little_mermaid__ariels_undersea_adventure\">15 minutes</span>,\n",
       " <span id=\"f_magic_key_terrace_walk_up_only\">Open</span>,\n",
       " <span id=\"f_mickeys_philharmagic\"><span class=\"statusdown\">Down</span></span>,\n",
       " <span id=\"f_monsters_inc_mike__sulley_to_the_rescue\">\n",
       " <div class=\"waiticon\">\n",
       " <table>\n",
       " <tr>\n",
       " <td>30 minutes</td>\n",
       " <td><img sizes=\"(max-width: 37px) 100vw, 37px\" src=\"https://803277.smushcdn.com/1580116/wp-content/uploads/2018/09/wait2.png?lossy=1&amp;strip=0&amp;webp=1\" srcset=\"https://803277.smushcdn.com/1580116/wp-content/uploads/2018/09/wait2.png?lossy=1&amp;strip=0&amp;webp=1 37w, \"/></td>\n",
       " </tr>\n",
       " </table>\n",
       " </div>\n",
       " <p></p></span>,\n",
       " <span id=\"f_pixar_pal_a_round__non_swinging\"><div class=\"code-block code-block-3\" style=\"margin: 8px 0; clear: both;\">\n",
       " <amp-ad data-multi-size=\"300x250,336x280,300x50,320x100,320x50,1x1\" data-multi-size-validation=\"false\" data-slot=\"/18190176/AdThrive_Content_2/5cfa8eb28500e7468bf43195\" height=\"fluid\" json='{\"targeting\":{\"siteId\":\"5cfa8eb28500e7468bf43195\",\"siteName\":\"Laughing Place\",\"amp_type\":\"rtc\", \"decref\":\"240\", \"location\":\"Content\",\"sequence\":2,\"refresh\":\"false\",\"amp\":\"true\"}}' layout=\"fluid\" rtc-config='{\n",
       "             \"vendors\": {\n",
       "               \"prebidappnexus\": {\"PLACEMENT_ID\": \"17359252\"}    \n",
       "               }}' type=\"doubleclick\" width=\"336\"></amp-ad>\n",
       " </div>\n",
       " <div class=\"waiticon\">\n",
       " <table>\n",
       " <tr>\n",
       " <td>45 minutes</td>\n",
       " <td><img sizes=\"(max-width: 37px) 100vw, 37px\" src=\"https://803277.smushcdn.com/1580116/wp-content/uploads/2018/09/wait2.png?lossy=1&amp;strip=0&amp;webp=1\" srcset=\"https://803277.smushcdn.com/1580116/wp-content/uploads/2018/09/wait2.png?lossy=1&amp;strip=0&amp;webp=1 37w, \"/></td>\n",
       " </tr>\n",
       " </table>\n",
       " </div>\n",
       " <p></p></span>,\n",
       " <span id=\"f_pixar_pal_a_round__swinging\">20 minutes</span>,\n",
       " <span id=\"f_radiator_springs_racers\">100 minutes</span>,\n",
       " <span id=\"f_red_car_trolley\">Closed</span>,\n",
       " <span id=\"f_redwood_creek_challenge_trail\">Open</span>,\n",
       " <span id=\"f_silly_symphony_swings\">\n",
       " <div class=\"waiticon\">\n",
       " <table>\n",
       " <tr>\n",
       " <td>20 minutes</td>\n",
       " <td><img sizes=\"(max-width: 37px) 100vw, 37px\" src=\"https://803277.smushcdn.com/1580116/wp-content/uploads/2018/09/wait2.png?lossy=1&amp;strip=0&amp;webp=1\" srcset=\"https://803277.smushcdn.com/1580116/wp-content/uploads/2018/09/wait2.png?lossy=1&amp;strip=0&amp;webp=1 37w, \"/></td>\n",
       " </tr>\n",
       " </table>\n",
       " </div>\n",
       " <p></p></span>,\n",
       " <span id=\"f_soarin_around_the_world\">35 minutes</span>,\n",
       " <span id=\"f_toy_story_midway_mania\">50 minutes</span>,\n",
       " <span id=\"f_web_slingers_a_spider_man_adventure\"><span class=\"statusdown\">Down</span></span>]"
      ]
     },
     "execution_count": 82,
     "metadata": {},
     "output_type": "execute_result"
    }
   ],
   "source": [
    "wait_times = first.find_all(\"span\", id=re.compile(\"f\"))\n",
    "wait_times"
   ]
  },
  {
   "cell_type": "code",
   "execution_count": 83,
   "id": "2bb7fc3f",
   "metadata": {
    "scrolled": false
   },
   "outputs": [],
   "source": [
    "for item in wait_times:\n",
    "   \n",
    "    if item.find('div', class_='waiticon'):\n",
    "        raw_time = item.find('td')\n",
    "        time = raw_time.text[:3].strip(' ')\n",
    "        if ' ' in time:\n",
    "            time = time[:1]\n",
    "    else:\n",
    "        time = item.text[:3].strip(' ')\n",
    "        if ' ' in time:\n",
    "            time = time[:1]\n",
    "        \n",
    "    waits.append(time)"
   ]
  },
  {
   "cell_type": "markdown",
   "id": "7ffed774",
   "metadata": {},
   "source": [
    "## DataFrame"
   ]
  },
  {
   "cell_type": "code",
   "execution_count": 84,
   "id": "3deb7ca9",
   "metadata": {},
   "outputs": [
    {
     "data": {
      "text/plain": [
       "['35',\n",
       " '35',\n",
       " '30',\n",
       " 'Ref',\n",
       " '30',\n",
       " '10',\n",
       " 'Clo',\n",
       " '10',\n",
       " 'Clo',\n",
       " '35',\n",
       " 'Ope',\n",
       " 'Clo',\n",
       " '35',\n",
       " 'Clo',\n",
       " 'Clo',\n",
       " 'Dow',\n",
       " '50',\n",
       " '30',\n",
       " '50',\n",
       " '5',\n",
       " '15',\n",
       " 'Clo',\n",
       " '5',\n",
       " 'Ope',\n",
       " '40',\n",
       " 'Clo',\n",
       " '40',\n",
       " 'Clo',\n",
       " '20',\n",
       " 'Ope',\n",
       " '35',\n",
       " '15',\n",
       " '5',\n",
       " '25',\n",
       " '30',\n",
       " 'Ref',\n",
       " 'Clo',\n",
       " '25',\n",
       " '60',\n",
       " '50',\n",
       " '20',\n",
       " 'Clo',\n",
       " '30',\n",
       " 'Ref',\n",
       " 'Ope',\n",
       " 'Clo',\n",
       " 'Ope',\n",
       " 'Dow',\n",
       " '35',\n",
       " '35',\n",
       " 'Clo',\n",
       " '30',\n",
       " '20',\n",
       " '5',\n",
       " '10',\n",
       " '45',\n",
       " '15',\n",
       " 'Ope',\n",
       " 'Dow',\n",
       " '30',\n",
       " '45',\n",
       " '20',\n",
       " '100',\n",
       " 'Clo',\n",
       " 'Ope',\n",
       " '20',\n",
       " '35',\n",
       " '50',\n",
       " 'Dow']"
      ]
     },
     "execution_count": 84,
     "metadata": {},
     "output_type": "execute_result"
    }
   ],
   "source": [
    "waits"
   ]
  },
  {
   "cell_type": "code",
   "execution_count": 85,
   "id": "9669db75",
   "metadata": {},
   "outputs": [
    {
     "data": {
      "text/html": [
       "<div>\n",
       "<style scoped>\n",
       "    .dataframe tbody tr th:only-of-type {\n",
       "        vertical-align: middle;\n",
       "    }\n",
       "\n",
       "    .dataframe tbody tr th {\n",
       "        vertical-align: top;\n",
       "    }\n",
       "\n",
       "    .dataframe thead th {\n",
       "        text-align: right;\n",
       "    }\n",
       "</style>\n",
       "<table border=\"1\" class=\"dataframe\">\n",
       "  <thead>\n",
       "    <tr style=\"text-align: right;\">\n",
       "      <th></th>\n",
       "      <th>Oct 8 8a-11p @325pm</th>\n",
       "    </tr>\n",
       "  </thead>\n",
       "  <tbody>\n",
       "    <tr>\n",
       "      <th>Alice in Wonderland</th>\n",
       "      <td>25</td>\n",
       "    </tr>\n",
       "    <tr>\n",
       "      <th>Astro Orbitor</th>\n",
       "      <td>35</td>\n",
       "    </tr>\n",
       "    <tr>\n",
       "      <th>Autopia</th>\n",
       "      <td>40</td>\n",
       "    </tr>\n",
       "    <tr>\n",
       "      <th>Big Thunder Mountain Railroad</th>\n",
       "      <td>Ref</td>\n",
       "    </tr>\n",
       "    <tr>\n",
       "      <th>Buzz Lightyear Astro Blasters</th>\n",
       "      <td>25</td>\n",
       "    </tr>\n",
       "    <tr>\n",
       "      <th>...</th>\n",
       "      <td>...</td>\n",
       "    </tr>\n",
       "    <tr>\n",
       "      <th>Redwood Creek Challenge Trail</th>\n",
       "      <td>Ope</td>\n",
       "    </tr>\n",
       "    <tr>\n",
       "      <th>Silly Symphony Swings</th>\n",
       "      <td>20</td>\n",
       "    </tr>\n",
       "    <tr>\n",
       "      <th>Soarin’ Around the World</th>\n",
       "      <td>35</td>\n",
       "    </tr>\n",
       "    <tr>\n",
       "      <th>Toy Story Midway Mania!</th>\n",
       "      <td>45</td>\n",
       "    </tr>\n",
       "    <tr>\n",
       "      <th>Web Slingers</th>\n",
       "      <td>Dow</td>\n",
       "    </tr>\n",
       "  </tbody>\n",
       "</table>\n",
       "<p>69 rows × 1 columns</p>\n",
       "</div>"
      ],
      "text/plain": [
       "                              Oct 8 8a-11p @325pm\n",
       "Alice in Wonderland                            25\n",
       "Astro Orbitor                                  35\n",
       "Autopia                                        40\n",
       "Big Thunder Mountain Railroad                 Ref\n",
       "Buzz Lightyear Astro Blasters                  25\n",
       "...                                           ...\n",
       "Redwood Creek Challenge Trail                 Ope\n",
       "Silly Symphony Swings                          20\n",
       "Soarin’ Around the World                       35\n",
       "Toy Story Midway Mania!                        45\n",
       "Web Slingers                                  Dow\n",
       "\n",
       "[69 rows x 1 columns]"
      ]
     },
     "execution_count": 85,
     "metadata": {},
     "output_type": "execute_result"
    }
   ],
   "source": [
    "attraction_waits = pd.read_pickle('attraction_waits.pkl')\n",
    "attraction_waits"
   ]
  },
  {
   "cell_type": "code",
   "execution_count": 86,
   "id": "316fb1e2",
   "metadata": {},
   "outputs": [
    {
     "data": {
      "text/html": [
       "<div>\n",
       "<style scoped>\n",
       "    .dataframe tbody tr th:only-of-type {\n",
       "        vertical-align: middle;\n",
       "    }\n",
       "\n",
       "    .dataframe tbody tr th {\n",
       "        vertical-align: top;\n",
       "    }\n",
       "\n",
       "    .dataframe thead th {\n",
       "        text-align: right;\n",
       "    }\n",
       "</style>\n",
       "<table border=\"1\" class=\"dataframe\">\n",
       "  <thead>\n",
       "    <tr style=\"text-align: right;\">\n",
       "      <th></th>\n",
       "      <th>Oct 8 8a-11p @325pm</th>\n",
       "      <th>Oct 8 8a-11p Pull:337pm</th>\n",
       "    </tr>\n",
       "  </thead>\n",
       "  <tbody>\n",
       "    <tr>\n",
       "      <th>Alice in Wonderland</th>\n",
       "      <td>25</td>\n",
       "      <td>35</td>\n",
       "    </tr>\n",
       "    <tr>\n",
       "      <th>Astro Orbitor</th>\n",
       "      <td>35</td>\n",
       "      <td>35</td>\n",
       "    </tr>\n",
       "    <tr>\n",
       "      <th>Autopia</th>\n",
       "      <td>40</td>\n",
       "      <td>30</td>\n",
       "    </tr>\n",
       "    <tr>\n",
       "      <th>Big Thunder Mountain Railroad</th>\n",
       "      <td>Ref</td>\n",
       "      <td>Ref</td>\n",
       "    </tr>\n",
       "    <tr>\n",
       "      <th>Buzz Lightyear Astro Blasters</th>\n",
       "      <td>25</td>\n",
       "      <td>30</td>\n",
       "    </tr>\n",
       "    <tr>\n",
       "      <th>...</th>\n",
       "      <td>...</td>\n",
       "      <td>...</td>\n",
       "    </tr>\n",
       "    <tr>\n",
       "      <th>Redwood Creek Challenge Trail</th>\n",
       "      <td>Ope</td>\n",
       "      <td>Ope</td>\n",
       "    </tr>\n",
       "    <tr>\n",
       "      <th>Silly Symphony Swings</th>\n",
       "      <td>20</td>\n",
       "      <td>20</td>\n",
       "    </tr>\n",
       "    <tr>\n",
       "      <th>Soarin’ Around the World</th>\n",
       "      <td>35</td>\n",
       "      <td>35</td>\n",
       "    </tr>\n",
       "    <tr>\n",
       "      <th>Toy Story Midway Mania!</th>\n",
       "      <td>45</td>\n",
       "      <td>50</td>\n",
       "    </tr>\n",
       "    <tr>\n",
       "      <th>Web Slingers</th>\n",
       "      <td>Dow</td>\n",
       "      <td>Dow</td>\n",
       "    </tr>\n",
       "  </tbody>\n",
       "</table>\n",
       "<p>69 rows × 2 columns</p>\n",
       "</div>"
      ],
      "text/plain": [
       "                              Oct 8 8a-11p @325pm Oct 8 8a-11p Pull:337pm\n",
       "Alice in Wonderland                            25                      35\n",
       "Astro Orbitor                                  35                      35\n",
       "Autopia                                        40                      30\n",
       "Big Thunder Mountain Railroad                 Ref                     Ref\n",
       "Buzz Lightyear Astro Blasters                  25                      30\n",
       "...                                           ...                     ...\n",
       "Redwood Creek Challenge Trail                 Ope                     Ope\n",
       "Silly Symphony Swings                          20                      20\n",
       "Soarin’ Around the World                       35                      35\n",
       "Toy Story Midway Mania!                        45                      50\n",
       "Web Slingers                                  Dow                     Dow\n",
       "\n",
       "[69 rows x 2 columns]"
      ]
     },
     "execution_count": 86,
     "metadata": {},
     "output_type": "execute_result"
    }
   ],
   "source": [
    "attraction_waits[total_date] = waits\n",
    "attraction_waits"
   ]
  },
  {
   "cell_type": "code",
   "execution_count": 87,
   "id": "6423d860",
   "metadata": {},
   "outputs": [],
   "source": [
    "attraction_waits.to_pickle('attraction_waits.pkl')"
   ]
  },
  {
   "cell_type": "code",
   "execution_count": null,
   "id": "0b8adc1c",
   "metadata": {},
   "outputs": [],
   "source": []
  }
 ],
 "metadata": {
  "kernelspec": {
   "display_name": "Python 3 (ipykernel)",
   "language": "python",
   "name": "python3"
  },
  "language_info": {
   "codemirror_mode": {
    "name": "ipython",
    "version": 3
   },
   "file_extension": ".py",
   "mimetype": "text/x-python",
   "name": "python",
   "nbconvert_exporter": "python",
   "pygments_lexer": "ipython3",
   "version": "3.8.10"
  },
  "toc": {
   "base_numbering": 1,
   "nav_menu": {},
   "number_sections": true,
   "sideBar": true,
   "skip_h1_title": false,
   "title_cell": "Table of Contents",
   "title_sidebar": "Contents",
   "toc_cell": false,
   "toc_position": {},
   "toc_section_display": true,
   "toc_window_display": true
  }
 },
 "nbformat": 4,
 "nbformat_minor": 5
}
