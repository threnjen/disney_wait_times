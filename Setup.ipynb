{
 "cells": [
  {
   "cell_type": "markdown",
   "id": "4a308674",
   "metadata": {},
   "source": [
    "# Get Soup"
   ]
  },
  {
   "cell_type": "code",
   "execution_count": 1,
   "id": "18cbe0e2",
   "metadata": {},
   "outputs": [],
   "source": [
    "from bs4 import BeautifulSoup\n",
    "import requests\n",
    "import regex as re\n",
    "\n",
    "page = requests.get(\"https://www.laughingplace.com/w/p/disneyland-current-wait-times/\")"
   ]
  },
  {
   "cell_type": "code",
   "execution_count": 2,
   "id": "747eedc4",
   "metadata": {},
   "outputs": [],
   "source": [
    "dland = BeautifulSoup(page.content, 'html.parser')"
   ]
  },
  {
   "cell_type": "code",
   "execution_count": 3,
   "id": "7e1f95c7",
   "metadata": {},
   "outputs": [],
   "source": [
    "page2 = requests.get(\"https://www.laughingplace.com/w/p/disney-california-adventure-current-wait-times/\")"
   ]
  },
  {
   "cell_type": "code",
   "execution_count": 4,
   "id": "2c16b967",
   "metadata": {},
   "outputs": [],
   "source": [
    "dca = BeautifulSoup(page2.content, 'html.parser')"
   ]
  },
  {
   "cell_type": "markdown",
   "id": "9d3355b1",
   "metadata": {},
   "source": [
    "## Get Attractions Table"
   ]
  },
  {
   "cell_type": "code",
   "execution_count": 124,
   "id": "15f1342e",
   "metadata": {},
   "outputs": [],
   "source": [
    "attractions, waits = [], []"
   ]
  },
  {
   "cell_type": "code",
   "execution_count": 125,
   "id": "80461a9b",
   "metadata": {},
   "outputs": [
    {
     "data": {
      "text/plain": [
       "'Operating Hours For Fri, Oct 8: 8a-11p\\n \\nLast Check at 3:25pm on Friday'"
      ]
     },
     "execution_count": 125,
     "metadata": {},
     "output_type": "execute_result"
    }
   ],
   "source": [
    "check = dland.find('div', class_='header').text\n",
    "check"
   ]
  },
  {
   "cell_type": "code",
   "execution_count": 126,
   "id": "18afbcb2",
   "metadata": {},
   "outputs": [],
   "source": [
    "check = check.split('\\n')"
   ]
  },
  {
   "cell_type": "code",
   "execution_count": 127,
   "id": "bc76a0bf",
   "metadata": {},
   "outputs": [
    {
     "data": {
      "text/plain": [
       "'Oct 8'"
      ]
     },
     "execution_count": 127,
     "metadata": {},
     "output_type": "execute_result"
    }
   ],
   "source": [
    "pattern = 'Operating Hours For '\n",
    "date_string = re.sub(pattern, '', check[0])\n",
    "date_string = date_string[5:11]\n",
    "date = re.sub('[^A-Za-z0-9]+', ' ', date_string).strip()\n",
    "date"
   ]
  },
  {
   "cell_type": "code",
   "execution_count": 128,
   "id": "f3a4ec83",
   "metadata": {},
   "outputs": [
    {
     "data": {
      "text/plain": [
       "'325pm'"
      ]
     },
     "execution_count": 128,
     "metadata": {},
     "output_type": "execute_result"
    }
   ],
   "source": [
    "pattern = 'Last Check at '\n",
    "mod_string = re.sub(pattern, '', check[2])\n",
    "mod_string = mod_string[:6]\n",
    "time = re.sub('[^A-Za-z0-9]+', '', mod_string).strip()\n",
    "time"
   ]
  },
  {
   "cell_type": "code",
   "execution_count": 129,
   "id": "300b0721",
   "metadata": {},
   "outputs": [
    {
     "data": {
      "text/plain": [
       "'8a-11p'"
      ]
     },
     "execution_count": 129,
     "metadata": {},
     "output_type": "execute_result"
    }
   ],
   "source": [
    "hours_string = check[0][31:]\n",
    "hours_string=hours_string.strip()\n",
    "hours_string"
   ]
  },
  {
   "cell_type": "code",
   "execution_count": 130,
   "id": "bb47af5b",
   "metadata": {},
   "outputs": [
    {
     "data": {
      "text/plain": [
       "'Oct 8 8a-11p @325pm'"
      ]
     },
     "execution_count": 130,
     "metadata": {},
     "output_type": "execute_result"
    }
   ],
   "source": [
    "total_date=date+' '+hours_string+' @'+time\n",
    "total_date"
   ]
  },
  {
   "cell_type": "markdown",
   "id": "ecb314df",
   "metadata": {},
   "source": [
    "# Disneyland"
   ]
  },
  {
   "cell_type": "markdown",
   "id": "443b761a",
   "metadata": {},
   "source": [
    "## Attraction Names"
   ]
  },
  {
   "cell_type": "code",
   "execution_count": 131,
   "id": "0bfc3649",
   "metadata": {},
   "outputs": [],
   "source": [
    "first = dland.find('table', class_='lp_attraction')"
   ]
  },
  {
   "cell_type": "code",
   "execution_count": 132,
   "id": "71a345d8",
   "metadata": {},
   "outputs": [],
   "source": [
    "attraction_names = first.find_all('a')"
   ]
  },
  {
   "cell_type": "code",
   "execution_count": 133,
   "id": "eb370cb1",
   "metadata": {},
   "outputs": [],
   "source": [
    "for item in attraction_names:\n",
    "    attractions.append(item.text)"
   ]
  },
  {
   "cell_type": "code",
   "execution_count": 134,
   "id": "354a9c19",
   "metadata": {},
   "outputs": [],
   "source": [
    "attractions.insert(16, 'Haunted Mansion')"
   ]
  },
  {
   "cell_type": "code",
   "execution_count": 135,
   "id": "1d5430ac",
   "metadata": {},
   "outputs": [],
   "source": [
    "attractions.insert(29, \"Oga's Cantina\")"
   ]
  },
  {
   "cell_type": "markdown",
   "id": "d7afc659",
   "metadata": {},
   "source": [
    "## Wait Times"
   ]
  },
  {
   "cell_type": "code",
   "execution_count": 136,
   "id": "c55015f4",
   "metadata": {},
   "outputs": [],
   "source": [
    "wait_times = first.find_all(\"span\", id=re.compile(\"f\"))"
   ]
  },
  {
   "cell_type": "code",
   "execution_count": 137,
   "id": "b60c6e39",
   "metadata": {
    "scrolled": true
   },
   "outputs": [],
   "source": [
    "for item in wait_times:\n",
    "    \n",
    "    if item.find('div', class_='waiticon'):\n",
    "        raw_time = item.find('td')\n",
    "        time = raw_time.text[:3].strip(' ')\n",
    "        if ' ' in time:\n",
    "            time = time[:1]\n",
    "    else:\n",
    "        time = item.text[:3].strip(' ')\n",
    "        if ' ' in time:\n",
    "            time = time[:1]\n",
    "        \n",
    "    waits.append(time)"
   ]
  },
  {
   "cell_type": "markdown",
   "id": "dfb10a66",
   "metadata": {},
   "source": [
    "# DCA"
   ]
  },
  {
   "cell_type": "markdown",
   "id": "8d01b54c",
   "metadata": {},
   "source": [
    "## Attraction Names"
   ]
  },
  {
   "cell_type": "code",
   "execution_count": 138,
   "id": "9524a93e",
   "metadata": {},
   "outputs": [],
   "source": [
    "first = dca.find('table', class_='lp_attraction')"
   ]
  },
  {
   "cell_type": "code",
   "execution_count": 139,
   "id": "f066c773",
   "metadata": {},
   "outputs": [],
   "source": [
    "attraction_names = first.find_all('a')"
   ]
  },
  {
   "cell_type": "code",
   "execution_count": 140,
   "id": "c2b0803d",
   "metadata": {},
   "outputs": [],
   "source": [
    "for item in attraction_names:\n",
    "    attractions.append(item.text)"
   ]
  },
  {
   "cell_type": "code",
   "execution_count": 141,
   "id": "2661a496",
   "metadata": {},
   "outputs": [],
   "source": [
    "attractions.insert(46, 'Carthay Circle')"
   ]
  },
  {
   "cell_type": "code",
   "execution_count": 142,
   "id": "9817efaf",
   "metadata": {},
   "outputs": [],
   "source": [
    "attractions.insert(55, 'Lamplight Lounge')"
   ]
  },
  {
   "cell_type": "code",
   "execution_count": 143,
   "id": "c2368461",
   "metadata": {},
   "outputs": [],
   "source": [
    "attractions.insert(57, 'Magic Key Terrace')"
   ]
  },
  {
   "cell_type": "code",
   "execution_count": 144,
   "id": "1fbb165f",
   "metadata": {},
   "outputs": [],
   "source": [
    "attractions.append('Web Slingers')"
   ]
  },
  {
   "cell_type": "markdown",
   "id": "2e1c6963",
   "metadata": {},
   "source": [
    "## Wait Times"
   ]
  },
  {
   "cell_type": "code",
   "execution_count": 145,
   "id": "650b6a8b",
   "metadata": {
    "scrolled": true
   },
   "outputs": [
    {
     "data": {
      "text/plain": [
       "[<span id=\"f_the_bakery_tour\">Closed</span>,\n",
       " <span id=\"f_carthay_circle_restaurant\">Open</span>,\n",
       " <span id=\"f_golden_zephyr\"><span class=\"statusdown\">Down</span></span>,\n",
       " <span id=\"f_goofys_sky_school\">35 minutes</span>,\n",
       " <span id=\"f_grizzly_river_run\">25 minutes</span>,\n",
       " <span id=\"f_guardians_of_the_galaxy__mission_breakout\">Closed</span>,\n",
       " <span id=\"f_incredicoaster\">30 minutes</span>,\n",
       " <span id=\"f_inside_out_emotional_whirlwind\">20 minutes</span>,\n",
       " <span id=\"f_jessies_critter_carousel\">5 minutes</span>,\n",
       " <span id=\"f_jumpin_jellyfish\">10 minutes</span>,\n",
       " <span id=\"f_lamplight_lounge___boardwalk_dining\">35 minutes</span>,\n",
       " <span id=\"f_the_little_mermaid__ariels_undersea_adventure\">15 minutes</span>,\n",
       " <span id=\"f_magic_key_terrace_walk_up_only\">Open</span>,\n",
       " <span id=\"f_mickeys_philharmagic\"><span class=\"statusdown\">Down</span></span>,\n",
       " <span id=\"f_monsters_inc_mike__sulley_to_the_rescue\">\n",
       " <div class=\"waiticon\">\n",
       " <table>\n",
       " <tr>\n",
       " <td>40 minutes</td>\n",
       " <td><img sizes=\"(max-width: 37px) 100vw, 37px\" src=\"https://803277.smushcdn.com/1580116/wp-content/uploads/2018/09/wait2.png?lossy=1&amp;strip=0&amp;webp=1\" srcset=\"https://803277.smushcdn.com/1580116/wp-content/uploads/2018/09/wait2.png?lossy=1&amp;strip=0&amp;webp=1 37w, \"/></td>\n",
       " </tr>\n",
       " </table>\n",
       " </div>\n",
       " <p></p></span>,\n",
       " <span id=\"f_pixar_pal_a_round__non_swinging\"><div class=\"code-block code-block-3\" style=\"margin: 8px 0; clear: both;\">\n",
       " <amp-ad data-multi-size=\"300x250,336x280,300x50,320x100,320x50,1x1\" data-multi-size-validation=\"false\" data-slot=\"/18190176/AdThrive_Content_2/5cfa8eb28500e7468bf43195\" height=\"fluid\" json='{\"targeting\":{\"siteId\":\"5cfa8eb28500e7468bf43195\",\"siteName\":\"Laughing Place\",\"amp_type\":\"rtc\", \"decref\":\"240\", \"location\":\"Content\",\"sequence\":2,\"refresh\":\"false\",\"amp\":\"true\"}}' layout=\"fluid\" rtc-config='{\n",
       "             \"vendors\": {\n",
       "               \"prebidappnexus\": {\"PLACEMENT_ID\": \"17359252\"}    \n",
       "               }}' type=\"doubleclick\" width=\"336\"></amp-ad>\n",
       " </div>\n",
       " <div class=\"waiticon\">\n",
       " <table>\n",
       " <tr>\n",
       " <td>45 minutes</td>\n",
       " <td><img sizes=\"(max-width: 37px) 100vw, 37px\" src=\"https://803277.smushcdn.com/1580116/wp-content/uploads/2018/09/wait2.png?lossy=1&amp;strip=0&amp;webp=1\" srcset=\"https://803277.smushcdn.com/1580116/wp-content/uploads/2018/09/wait2.png?lossy=1&amp;strip=0&amp;webp=1 37w, \"/></td>\n",
       " </tr>\n",
       " </table>\n",
       " </div>\n",
       " <p></p></span>,\n",
       " <span id=\"f_pixar_pal_a_round__swinging\">20 minutes</span>,\n",
       " <span id=\"f_radiator_springs_racers\">100 minutes</span>,\n",
       " <span id=\"f_red_car_trolley\">Closed</span>,\n",
       " <span id=\"f_redwood_creek_challenge_trail\">Open</span>,\n",
       " <span id=\"f_silly_symphony_swings\">\n",
       " <div class=\"waiticon\">\n",
       " <table>\n",
       " <tr>\n",
       " <td>20 minutes</td>\n",
       " <td><img sizes=\"(max-width: 37px) 100vw, 37px\" src=\"https://803277.smushcdn.com/1580116/wp-content/uploads/2018/09/wait2.png?lossy=1&amp;strip=0&amp;webp=1\" srcset=\"https://803277.smushcdn.com/1580116/wp-content/uploads/2018/09/wait2.png?lossy=1&amp;strip=0&amp;webp=1 37w, \"/></td>\n",
       " </tr>\n",
       " </table>\n",
       " </div>\n",
       " <p></p></span>,\n",
       " <span id=\"f_soarin_around_the_world\">35 minutes</span>,\n",
       " <span id=\"f_toy_story_midway_mania\">45 minutes</span>,\n",
       " <span id=\"f_web_slingers_a_spider_man_adventure\"><span class=\"statusdown\">Down</span></span>]"
      ]
     },
     "execution_count": 145,
     "metadata": {},
     "output_type": "execute_result"
    }
   ],
   "source": [
    "import regex as re\n",
    "\n",
    "wait_times = first.find_all(\"span\", id=re.compile(\"f\"))\n",
    "wait_times"
   ]
  },
  {
   "cell_type": "code",
   "execution_count": 146,
   "id": "ab06be1c",
   "metadata": {
    "scrolled": false
   },
   "outputs": [],
   "source": [
    "for item in wait_times:\n",
    "   \n",
    "    if item.find('div', class_='waiticon'):\n",
    "        raw_time = item.find('td')\n",
    "        time = raw_time.text[:3].strip(' ')\n",
    "        if ' ' in time:\n",
    "            time = time[:1]\n",
    "    else:\n",
    "        time = item.text[:3].strip(' ')\n",
    "        if ' ' in time:\n",
    "            time = time[:1]\n",
    "        \n",
    "    waits.append(time)"
   ]
  },
  {
   "cell_type": "markdown",
   "id": "7e7c3365",
   "metadata": {},
   "source": [
    "## DataFrame"
   ]
  },
  {
   "cell_type": "code",
   "execution_count": 147,
   "id": "a4761e47",
   "metadata": {},
   "outputs": [
    {
     "data": {
      "text/html": [
       "<div>\n",
       "<style scoped>\n",
       "    .dataframe tbody tr th:only-of-type {\n",
       "        vertical-align: middle;\n",
       "    }\n",
       "\n",
       "    .dataframe tbody tr th {\n",
       "        vertical-align: top;\n",
       "    }\n",
       "\n",
       "    .dataframe thead th {\n",
       "        text-align: right;\n",
       "    }\n",
       "</style>\n",
       "<table border=\"1\" class=\"dataframe\">\n",
       "  <thead>\n",
       "    <tr style=\"text-align: right;\">\n",
       "      <th></th>\n",
       "      <th>Oct 8 8a-11p @325pm</th>\n",
       "    </tr>\n",
       "  </thead>\n",
       "  <tbody>\n",
       "    <tr>\n",
       "      <th>Alice in Wonderland</th>\n",
       "      <td>25</td>\n",
       "    </tr>\n",
       "    <tr>\n",
       "      <th>Astro Orbitor</th>\n",
       "      <td>35</td>\n",
       "    </tr>\n",
       "    <tr>\n",
       "      <th>Autopia</th>\n",
       "      <td>40</td>\n",
       "    </tr>\n",
       "    <tr>\n",
       "      <th>Big Thunder Mountain Railroad</th>\n",
       "      <td>Ref</td>\n",
       "    </tr>\n",
       "    <tr>\n",
       "      <th>Buzz Lightyear Astro Blasters</th>\n",
       "      <td>25</td>\n",
       "    </tr>\n",
       "    <tr>\n",
       "      <th>...</th>\n",
       "      <td>...</td>\n",
       "    </tr>\n",
       "    <tr>\n",
       "      <th>Redwood Creek Challenge Trail</th>\n",
       "      <td>Ope</td>\n",
       "    </tr>\n",
       "    <tr>\n",
       "      <th>Silly Symphony Swings</th>\n",
       "      <td>20</td>\n",
       "    </tr>\n",
       "    <tr>\n",
       "      <th>Soarin’ Around the World</th>\n",
       "      <td>35</td>\n",
       "    </tr>\n",
       "    <tr>\n",
       "      <th>Toy Story Midway Mania!</th>\n",
       "      <td>45</td>\n",
       "    </tr>\n",
       "    <tr>\n",
       "      <th>Web Slingers</th>\n",
       "      <td>Dow</td>\n",
       "    </tr>\n",
       "  </tbody>\n",
       "</table>\n",
       "<p>69 rows × 1 columns</p>\n",
       "</div>"
      ],
      "text/plain": [
       "                              Oct 8 8a-11p @325pm\n",
       "Alice in Wonderland                            25\n",
       "Astro Orbitor                                  35\n",
       "Autopia                                        40\n",
       "Big Thunder Mountain Railroad                 Ref\n",
       "Buzz Lightyear Astro Blasters                  25\n",
       "...                                           ...\n",
       "Redwood Creek Challenge Trail                 Ope\n",
       "Silly Symphony Swings                          20\n",
       "Soarin’ Around the World                       35\n",
       "Toy Story Midway Mania!                        45\n",
       "Web Slingers                                  Dow\n",
       "\n",
       "[69 rows x 1 columns]"
      ]
     },
     "execution_count": 147,
     "metadata": {},
     "output_type": "execute_result"
    }
   ],
   "source": [
    "import pandas as pd\n",
    "\n",
    "attraction_waits = pd.DataFrame(waits, index=attractions, columns=[total_date])\n",
    "attraction_waits"
   ]
  },
  {
   "cell_type": "code",
   "execution_count": 148,
   "id": "cf8862bb",
   "metadata": {},
   "outputs": [],
   "source": [
    "attraction_waits.to_pickle('attraction_waits.pkl')"
   ]
  },
  {
   "cell_type": "code",
   "execution_count": null,
   "id": "fca85d5e",
   "metadata": {},
   "outputs": [],
   "source": []
  }
 ],
 "metadata": {
  "kernelspec": {
   "display_name": "Python 3 (ipykernel)",
   "language": "python",
   "name": "python3"
  },
  "language_info": {
   "codemirror_mode": {
    "name": "ipython",
    "version": 3
   },
   "file_extension": ".py",
   "mimetype": "text/x-python",
   "name": "python",
   "nbconvert_exporter": "python",
   "pygments_lexer": "ipython3",
   "version": "3.8.10"
  }
 },
 "nbformat": 4,
 "nbformat_minor": 5
}
